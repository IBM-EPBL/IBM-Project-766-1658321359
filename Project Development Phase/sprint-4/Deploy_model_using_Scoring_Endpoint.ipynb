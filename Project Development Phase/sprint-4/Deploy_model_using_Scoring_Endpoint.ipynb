{
  "cells": [
    {
      "cell_type": "markdown",
      "id": "3494af47",
      "metadata": {
        "id": "3494af47"
      },
      "source": [
        "# Giving Inputs By Using Scoring End Point"
      ]
    },
    {
      "cell_type": "markdown",
      "id": "cd730a39",
      "metadata": {
        "id": "cd730a39"
      },
      "source": [
        "API KEY :EjnR5QWRh_9zPFHorolJcaYJCPzfYS3xGZeFJlhbtkTS                                                                             \n",
        "ENDPOINT:https://us-south.ml.cloud.ibm.com/ml/v4/deployments/a0aba0b4-0d49-4acc-afd3-19c16a042590/predictions?version=2022-1-10"
      ]
    },
    {
      "cell_type": "markdown",
      "id": "91797658",
      "metadata": {
        "id": "91797658"
      },
      "source": [
        "# Inputs_1"
      ]
    },
    {
      "cell_type": "code",
      "execution_count": null,
      "id": "232c400d",
      "metadata": {
        "id": "232c400d"
      },
      "outputs": [],
      "source": [
        "input_columns=['age','blood_urea','blood glucose random','coronary_artery_disease','anemia','pus_cell','red_blood_cells',\n",
        "         'diabetesmellitus','pedal_edema']\n",
        "\n",
        "input_values=[[62,53,423,0,1,1,1,1,0]]"
      ]
    },
    {
      "cell_type": "markdown",
      "id": "76813b0e",
      "metadata": {
        "id": "76813b0e"
      },
      "source": [
        "# Prediction_1"
      ]
    },
    {
      "cell_type": "code",
      "execution_count": null,
      "id": "027b8526",
      "metadata": {
        "id": "027b8526",
        "outputId": "83c2b806-dd15-4d66-ad25-127081dca53f"
      },
      "outputs": [
        {
          "name": "stdout",
          "output_type": "stream",
          "text": [
            "Scoring response\n",
            "{'predictions': [{'fields': ['prediction', 'probability'], 'values': [[0, [1.0, 0.0]]]}]}\n",
            "\n",
            " output :  0 \n",
            "\n",
            "\n",
            " You are affected by CKD\n"
          ]
        }
      ],
      "source": [
        "import requests\n",
        "\n",
        "# NOTE: you must manually set API_KEY below using information retrieved from your IBM Cloud account.\n",
        "API_KEY = \"EjnR5QWRh_9zPFHorolJcaYJCPzfYS3xGZeFJlhbtkTS\"\n",
        "token_response = requests.post('https://iam.cloud.ibm.com/identity/token', data={\"apikey\":\n",
        " API_KEY, \"grant_type\": 'urn:ibm:params:oauth:grant-type:apikey'})\n",
        "mltoken = token_response.json()[\"access_token\"]\n",
        "\n",
        "header = {'Content-Type': 'application/json', 'Authorization': 'Bearer ' + mltoken}\n",
        "\n",
        "\n",
        "\n",
        "# NOTE: manually define and pass the array(s) of values to be scored in the next line\n",
        "payload_scoring = {\"input_data\": [{\"fields\": input_columns, \"values\": input_values}]}\n",
        "\n",
        "response_scoring = requests.post('https://us-south.ml.cloud.ibm.com/ml/v4/deployments/a0aba0b4-0d49-4acc-afd3-19c16a042590/predictions?version=2022-11-10', json=payload_scoring,\n",
        " headers={'Authorization': 'Bearer ' + mltoken})\n",
        "print(\"Scoring response\")\n",
        "prediction=response_scoring.json()\n",
        "print(prediction)\n",
        "pred=prediction['predictions'][0]['values'][0][0]\n",
        "\n",
        "print(\"\\n output : \",pred,\"\\n\")\n",
        "\n",
        "if(pred==0):\n",
        "    print(\"\\n You are affected by CKD\")\n",
        "else:\n",
        "    print(\"You are not affected by CKD\")"
      ]
    },
    {
      "cell_type": "markdown",
      "id": "01fcf531",
      "metadata": {
        "id": "01fcf531"
      },
      "source": [
        "# Inputs_2"
      ]
    },
    {
      "cell_type": "code",
      "execution_count": null,
      "id": "9f22cf92",
      "metadata": {
        "id": "9f22cf92"
      },
      "outputs": [],
      "source": [
        "input_columns=['age','blood_urea','blood glucose random','coronary_artery_disease','anemia','pus_cell','red_blood_cells',\n",
        "         'diabetesmellitus','pedal_edema']\n",
        "\n",
        "input_values=[[20,23,140,0,0,1,1,0,0]]"
      ]
    },
    {
      "cell_type": "markdown",
      "id": "d945f9b4",
      "metadata": {
        "id": "d945f9b4"
      },
      "source": [
        "# Prediction_2"
      ]
    },
    {
      "cell_type": "code",
      "execution_count": null,
      "id": "96e75334",
      "metadata": {
        "id": "96e75334",
        "outputId": "6b91b9c0-235c-487e-afdc-cfc8d14e7e7e"
      },
      "outputs": [
        {
          "name": "stdout",
          "output_type": "stream",
          "text": [
            "Scoring response\n",
            "{'predictions': [{'fields': ['prediction', 'probability'], 'values': [[1, [0.18, 0.82]]]}]}\n",
            "\n",
            " output :  1 \n",
            "\n",
            "You are not affected by CKD\n"
          ]
        }
      ],
      "source": [
        "import requests\n",
        "\n",
        "# NOTE: you must manually set API_KEY below using information retrieved from your IBM Cloud account.\n",
        "API_KEY = \"EjnR5QWRh_9zPFHorolJcaYJCPzfYS3xGZeFJlhbtkTS\"\n",
        "token_response = requests.post('https://iam.cloud.ibm.com/identity/token', data={\"apikey\":\n",
        " API_KEY, \"grant_type\": 'urn:ibm:params:oauth:grant-type:apikey'})\n",
        "mltoken = token_response.json()[\"access_token\"]\n",
        "\n",
        "header = {'Content-Type': 'application/json', 'Authorization': 'Bearer ' + mltoken}\n",
        "\n",
        "\n",
        "\n",
        "# NOTE: manually define and pass the array(s) of values to be scored in the next line\n",
        "payload_scoring = {\"input_data\": [{\"fields\": input_columns, \"values\": input_values}]}\n",
        "\n",
        "response_scoring = requests.post('https://us-south.ml.cloud.ibm.com/ml/v4/deployments/a0aba0b4-0d49-4acc-afd3-19c16a042590/predictions?version=2022-11-10', json=payload_scoring,\n",
        " headers={'Authorization': 'Bearer ' + mltoken})\n",
        "print(\"Scoring response\")\n",
        "prediction=response_scoring.json()\n",
        "print(prediction)\n",
        "pred=prediction['predictions'][0]['values'][0][0]\n",
        "\n",
        "print(\"\\n output : \",pred,\"\\n\")\n",
        "\n",
        "if(pred==0):\n",
        "    print(\"\\n You are affected by CKD\")\n",
        "else:\n",
        "    print(\"You are not affected by CKD\")"
      ]
    }
  ],
  "metadata": {
    "kernelspec": {
      "display_name": "Python 3 (ipykernel)",
      "language": "python",
      "name": "python3"
    },
    "language_info": {
      "codemirror_mode": {
        "name": "ipython",
        "version": 3
      },
      "file_extension": ".py",
      "mimetype": "text/x-python",
      "name": "python",
      "nbconvert_exporter": "python",
      "pygments_lexer": "ipython3",
      "version": "3.9.12"
    },
    "colab": {
      "provenance": []
    }
  },
  "nbformat": 4,
  "nbformat_minor": 5
}