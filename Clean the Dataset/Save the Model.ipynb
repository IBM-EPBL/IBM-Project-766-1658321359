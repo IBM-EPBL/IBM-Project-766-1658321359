{
  "cells": [
    {
      "cell_type": "markdown",
      "metadata": {
        "id": "DOEDT5LXp81W"
      },
      "source": [
        "# SAVE THE MODEL"
      ]
    },
    {
      "cell_type": "code",
      "execution_count": null,
      "metadata": {
        "id": "OlHwpmgtp81a"
      },
      "outputs": [],
      "source": [
        "filename = \"Completed_model.joblib\""
      ]
    },
    {
      "cell_type": "code",
      "execution_count": null,
      "metadata": {
        "id": "btWwztDfp81b",
        "outputId": "432e1e0a-28fa-4de2-a0c4-f00d3face9ef"
      },
      "outputs": [
        {
          "data": {
            "text/plain": [
              "['Completed_model.joblib']"
            ]
          },
          "execution_count": 50,
          "metadata": {},
          "output_type": "execute_result"
        }
      ],
      "source": [
        "  joblib.dump(logreg, filename)"
      ]
    },
    {
      "cell_type": "code",
      "execution_count": null,
      "metadata": {
        "id": "5WuPyvvep81c",
        "outputId": "9182b5fc-a90f-4877-cd84-270a5452e7c8"
      },
      "outputs": [
        {
          "name": "stdout",
          "output_type": "stream",
          "text": [
            "0.9758064516129032\n"
          ]
        }
      ],
      "source": [
        "loaded_model = joblib.load(filename)\n",
        "result = loaded_model.score(X_test, y_test)\n",
        "print(result)"
      ]
    },
    {
      "cell_type": "code",
      "execution_count": null,
      "metadata": {
        "id": "ox5g5c7xp81c"
      },
      "outputs": [],
      "source": [
        "###################################################################################"
      ]
    },
    {
      "cell_type": "code",
      "execution_count": null,
      "metadata": {
        "id": "jqGoLorTp81d"
      },
      "outputs": [],
      "source": [
        "#new  =  pd.read_csv('new_user.csv')"
      ]
    },
    {
      "cell_type": "code",
      "execution_count": null,
      "metadata": {
        "id": "EZuupTxep81d"
      },
      "outputs": [],
      "source": [
        "#new_output = logreg.predict(new)"
      ]
    },
    {
      "cell_type": "code",
      "execution_count": null,
      "metadata": {
        "id": "g6M3eFj4p81d"
      },
      "outputs": [],
      "source": [
        "#print(new_output)"
      ]
    }
  ],
  "metadata": {
    "colab": {
      "collapsed_sections": [],
      "provenance": []
    },
    "kernelspec": {
      "display_name": "Python 3 (ipykernel)",
      "language": "python",
      "name": "python3"
    },
    "language_info": {
      "codemirror_mode": {
        "name": "ipython",
        "version": 3
      },
      "file_extension": ".py",
      "mimetype": "text/x-python",
      "name": "python",
      "nbconvert_exporter": "python",
      "pygments_lexer": "ipython3",
      "version": "3.9.13"
    },
    "vscode": {
      "interpreter": {
        "hash": "d132a27c7840ad0f472579d70b99dee42e4382d7ea9eaa20aa460538c07acf9b"
      }
    }
  },
  "nbformat": 4,
  "nbformat_minor": 0
}